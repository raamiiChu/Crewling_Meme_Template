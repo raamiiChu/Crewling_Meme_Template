{
 "cells": [
  {
   "attachments": {},
   "cell_type": "markdown",
   "metadata": {},
   "source": [
    "### 下載模組"
   ]
  },
  {
   "attachments": {},
   "cell_type": "markdown",
   "metadata": {},
   "source": [
    "在終端機輸入以下指令：\n",
    "\n",
    "```\n",
    "pip install selenium\n",
    "```"
   ]
  },
  {
   "attachments": {},
   "cell_type": "markdown",
   "metadata": {},
   "source": [
    "### 匯入模組"
   ]
  },
  {
   "cell_type": "code",
   "execution_count": 1,
   "metadata": {},
   "outputs": [],
   "source": [
    "import os\n",
    "import base64\n",
    "import random\n",
    "\n",
    "# 函式註解\n",
    "from typing import *\n",
    "\n",
    "# 資料庫\n",
    "from firebase import firebase\n",
    "\n",
    "# 網路爬蟲\n",
    "from time import sleep\n",
    "from selenium import webdriver\n",
    "from selenium.webdriver.chrome.options import Options\n",
    "from selenium.webdriver.remote.webelement import WebElement\n",
    "from selenium.webdriver.common.by import By\n",
    "from selenium.webdriver.common.action_chains import ActionChains"
   ]
  },
  {
   "attachments": {},
   "cell_type": "markdown",
   "metadata": {},
   "source": [
    "## 下載資料庫內容"
   ]
  },
  {
   "cell_type": "code",
   "execution_count": 2,
   "metadata": {},
   "outputs": [],
   "source": [
    "DATABASE_URL = \"https://fir-test-9907d-default-rtdb.firebaseio.com/\"\n",
    "\n",
    "fdb = firebase.FirebaseApplication(DATABASE_URL, None)\n",
    "response = fdb.get(\"/meme_template\", None)"
   ]
  },
  {
   "attachments": {},
   "cell_type": "markdown",
   "metadata": {},
   "source": [
    "### 定義 Class MemeGenerator "
   ]
  },
  {
   "cell_type": "code",
   "execution_count": 3,
   "metadata": {},
   "outputs": [],
   "source": [
    "class MemeGenerator:\n",
    "    def __init__(self, texts: List[str], url: str) -> None:\n",
    "        self.url = url\n",
    "        self.texts = texts\n",
    "\n",
    "        self.chrome_options = Options()\n",
    "        self.chrome_options.add_argument(\"--disable-gpu\")\n",
    "\n",
    "        # 無頭模式\n",
    "        # self.chrome_options.add_argument(\"--headless\")\n",
    "\n",
    "    # 字數過長，則加上換行符號\n",
    "    def texts_preprocessing(self) -> None:\n",
    "        for index, text in enumerate(self.texts):\n",
    "            if len(text) > 7:\n",
    "                # 每 7 個字加上換行符號\n",
    "                self.texts[index] = '\\n'.join([text[i:i+7] for i in range(0, len(text), 7)])\n",
    "                \n",
    "    # 開啟瀏覽器\n",
    "    def open_webdriver(self) -> None:\n",
    "        # 初始化瀏覽器、設置智能等待\n",
    "        # 注意!!! implicitly_wait 不要設定得太短\n",
    "        self.driver = webdriver.Chrome('chromedriver', options = self.chrome_options)\n",
    "        self.driver.implicitly_wait(20)\n",
    "\n",
    "        # 開啟瀏覽器，並固定視窗大小\n",
    "        self.driver.get(self.url)\n",
    "        self.driver.set_window_size(1200, 800)\n",
    "        sleep(0.5)\n",
    "\n",
    "    # 輸入文本\n",
    "    def typing_texts(self) -> None:\n",
    "        parent = self.driver.find_element(By.CLASS_NAME, \"mm-boxes\")\n",
    "\n",
    "        # 找到所有可填寫的欄位，並逐一填寫文本\n",
    "        textareas = parent.find_elements(By.CLASS_NAME, \"mm-text\")\n",
    "        for index, textarea in enumerate(textareas):\n",
    "            textarea.send_keys(self.texts[index])\n",
    "\n",
    "        sleep(0.5)\n",
    "\n",
    "    # 下載圖片\n",
    "    def download_img(self, image_path: str) -> None:\n",
    "        # 點擊下載按鈕\n",
    "        download_btn = self.driver.find_element(By.XPATH, r\"/html/body/div[3]/div[2]/div[2]/div[10]/div[5]/button[1]\")\n",
    "        download_btn.click()\n",
    "\n",
    "        # 找到圖片，並取得下載連結\n",
    "        img = self.driver.find_element(By.ID, \"done-img\")\n",
    "        img_url = img.get_attribute(\"src\")\n",
    "        sleep(0.5)\n",
    "\n",
    "        # 解碼 Base64 圖片資料\n",
    "        image_data = img_url.split(\",\")[1]\n",
    "        image_bytes = base64.b64decode(image_data)\n",
    "\n",
    "        # 輸出圖片\n",
    "        with open(image_path, \"wb\") as file:\n",
    "            file.write(image_bytes)\n",
    "        \n",
    "        sleep(0.5)\n",
    "\n",
    "    # 關閉瀏覽器\n",
    "    def close(self) -> None:\n",
    "        self.driver.quit()"
   ]
  },
  {
   "attachments": {},
   "cell_type": "markdown",
   "metadata": {},
   "source": [
    "### 使用 Class Meme_Generator "
   ]
  },
  {
   "cell_type": "code",
   "execution_count": 4,
   "metadata": {},
   "outputs": [],
   "source": [
    "# 文本，預計用 AI 生成\n",
    "texts = [\"文本 1\", \"總字數超過7個字就換行\", \"文本 3\", \"文本 4\", \"文本 5\", \"文本 6\", \"文本 7\", \"文本 8\"]\n",
    "\n",
    "# 隨機抽取網址\n",
    "urls = list(value[\"url\"] for value in response.values())\n",
    "url = random.choice(urls)\n",
    "\n",
    "# 輸出梗圖的檔案名稱\n",
    "result_img_name = \"result\"\n",
    "\n",
    "# 進行網路爬蟲，最終結果在 \"result_pictures\" 資料夾\n",
    "MemeGen = MemeGenerator(texts, url)\n",
    "MemeGen.open_webdriver()\n",
    "MemeGen.texts_preprocessing()\n",
    "MemeGen.typing_texts()\n",
    "MemeGen.download_img(f\"./result_pictures/{result_img_name}.png\")\n",
    "MemeGen.close()"
   ]
  },
  {
   "cell_type": "code",
   "execution_count": null,
   "metadata": {},
   "outputs": [],
   "source": []
  }
 ],
 "metadata": {
  "kernelspec": {
   "display_name": "Python 3",
   "language": "python",
   "name": "python3"
  },
  "language_info": {
   "codemirror_mode": {
    "name": "ipython",
    "version": 3
   },
   "file_extension": ".py",
   "mimetype": "text/x-python",
   "name": "python",
   "nbconvert_exporter": "python",
   "pygments_lexer": "ipython3",
   "version": "3.10.6"
  },
  "orig_nbformat": 4
 },
 "nbformat": 4,
 "nbformat_minor": 2
}
